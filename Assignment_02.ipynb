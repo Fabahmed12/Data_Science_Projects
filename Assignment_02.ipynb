{
 "cells": [
  {
   "cell_type": "markdown",
   "metadata": {
    "id": "bb0O0xtk1v9t"
   },
   "source": [
    "## Task 01:\n",
    "\n",
    "Print Your Name with your Father name and Date of birth using suitable escape sequence charactor\n",
    "\n"
   ]
  },
  {
   "cell_type": "code",
   "execution_count": 3,
   "metadata": {
    "id": "U7LLGIkO2Ixa"
   },
   "outputs": [
    {
     "name": "stdout",
     "output_type": "stream",
     "text": [
      "My name : Fabiha\n",
      "Father's Name : Zafar\n",
      "\n"
     ]
    }
   ],
   "source": [
    "print (\"My name : Fabiha\\nFather's Name : Zafar\\n\")\n",
    "       "
   ]
  },
  {
   "cell_type": "markdown",
   "metadata": {
    "id": "TU-xwiLV2NgB"
   },
   "source": [
    "# Task 02:\n",
    "\n",
    "Write your small bio using variables and print it using print function"
   ]
  },
  {
   "cell_type": "code",
   "execution_count": 8,
   "metadata": {
    "id": "Dw8w3rwl2wDB"
   },
   "outputs": [
    {
     "name": "stdout",
     "output_type": "stream",
     "text": [
      "Name: Fabiha Zafar \n",
      "Occupation:  student \n",
      "Interests:  None \n",
      "Experience (years): 0\n",
      "About Me: Passionate, Driven & Adventurous\n"
     ]
    }
   ],
   "source": [
    "name = \"Fabiha Zafar \"\n",
    "occupation = \" student \"\n",
    "interests = \" None \"\n",
    "experience = \"0\"\n",
    "about_me = \"Passionate, Driven & Adventurous\"\n",
    "\n",
    "print(\"Name:\", name)\n",
    "print(\"Occupation:\", occupation)\n",
    "print(\"Interests:\", interests)\n",
    "print(\"Experience (years):\", experience)\n",
    "print(\"About Me:\", about_me)"
   ]
  },
  {
   "cell_type": "markdown",
   "metadata": {
    "id": "F2lcZuDe2ztv"
   },
   "source": [
    "# Task 03:\n",
    "\n",
    "Write a program in which use all the operators we can use in Python"
   ]
  },
  {
   "cell_type": "code",
   "execution_count": 9,
   "metadata": {
    "id": "lEJhzsXh3e7K"
   },
   "outputs": [
    {
     "name": "stdout",
     "output_type": "stream",
     "text": [
      "Arithmetic Operators:\n",
      "Addition: 15\n",
      "Subtraction: 5\n",
      "Multiplication: 50\n",
      "Division: 2.0\n",
      "Floor Division: 2\n",
      "Modulus: 0\n",
      "Exponentiation: 100000\n",
      "\n"
     ]
    }
   ],
   "source": [
    "a = 10\n",
    "b = 5\n",
    "print(\"Arithmetic Operators:\")\n",
    "print(\"Addition:\", a + b)\n",
    "print(\"Subtraction:\", a - b)\n",
    "print(\"Multiplication:\", a * b)\n",
    "print(\"Division:\", a / b)\n",
    "print(\"Floor Division:\", a // b)\n",
    "print(\"Modulus:\", a % b)\n",
    "print(\"Exponentiation:\", a ** b)\n",
    "print()"
   ]
  },
  {
   "cell_type": "markdown",
   "metadata": {
    "id": "i4N14TJU3l7n"
   },
   "source": [
    "# Task 04:\n",
    "\n",
    "\n",
    "1. Mention Marks of English , Islamiat and Maths out of 100 in 3 different variables\n",
    "\n",
    "2. Mention Variable of Total Marks and assign 300 to it\n",
    "\n",
    "3. Calculate Percentage"
   ]
  },
  {
   "cell_type": "code",
   "execution_count": 10,
   "metadata": {
    "id": "nxojzvRg5PP4"
   },
   "outputs": [
    {
     "name": "stdout",
     "output_type": "stream",
     "text": [
      "Marks in English: 85\n",
      "Marks in Islamiat: 75\n",
      "Marks in Maths: 90\n",
      "Total Marks: 300\n",
      "Total Obtained Marks: 250\n",
      "Percentage: 83.33333333333334\n"
     ]
    }
   ],
   "source": [
    "\n",
    "english_marks = 85\n",
    "islamiat_marks = 75\n",
    "maths_marks = 90\n",
    "\n",
    "\n",
    "total_marks = 300\n",
    "\n",
    "total_obtained_marks = english_marks + islamiat_marks + maths_marks\n",
    "\n",
    "percentage = (total_obtained_marks / total_marks) * 100\n",
    "\n",
    "print(\"Marks in English:\", english_marks)\n",
    "print(\"Marks in Islamiat:\", islamiat_marks)\n",
    "print(\"Marks in Maths:\", maths_marks)\n",
    "print(\"Total Marks:\", total_marks)\n",
    "print(\"Total Obtained Marks:\", total_obtained_marks)\n",
    "print(\"Percentage:\", percentage)"
   ]
  },
  {
   "cell_type": "code",
   "execution_count": null,
   "metadata": {},
   "outputs": [],
   "source": []
  }
 ],
 "metadata": {
  "colab": {
   "provenance": []
  },
  "kernelspec": {
   "display_name": "Python 3 (ipykernel)",
   "language": "python",
   "name": "python3"
  },
  "language_info": {
   "codemirror_mode": {
    "name": "ipython",
    "version": 3
   },
   "file_extension": ".py",
   "mimetype": "text/x-python",
   "name": "python",
   "nbconvert_exporter": "python",
   "pygments_lexer": "ipython3",
   "version": "3.11.7"
  }
 },
 "nbformat": 4,
 "nbformat_minor": 4
}
